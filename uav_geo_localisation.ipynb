{
 "cells": [
  {
   "cell_type": "code",
   "execution_count": 2,
   "id": "initial_id",
   "metadata": {
    "collapsed": true,
    "ExecuteTime": {
     "end_time": "2024-05-12T18:51:24.883282Z",
     "start_time": "2024-05-12T18:51:17.815113Z"
    }
   },
   "outputs": [
    {
     "name": "stdout",
     "output_type": "stream",
     "text": [
      "Requirement already satisfied: tensorflow in /Users/vladyslavtaraban/miniconda3/lib/python3.12/site-packages (2.16.1)\r\n",
      "Requirement already satisfied: absl-py>=1.0.0 in /Users/vladyslavtaraban/miniconda3/lib/python3.12/site-packages (from tensorflow) (2.1.0)\r\n",
      "Requirement already satisfied: astunparse>=1.6.0 in /Users/vladyslavtaraban/miniconda3/lib/python3.12/site-packages (from tensorflow) (1.6.3)\r\n",
      "Requirement already satisfied: flatbuffers>=23.5.26 in /Users/vladyslavtaraban/miniconda3/lib/python3.12/site-packages (from tensorflow) (24.3.25)\r\n",
      "Requirement already satisfied: gast!=0.5.0,!=0.5.1,!=0.5.2,>=0.2.1 in /Users/vladyslavtaraban/miniconda3/lib/python3.12/site-packages (from tensorflow) (0.5.4)\r\n",
      "Requirement already satisfied: google-pasta>=0.1.1 in /Users/vladyslavtaraban/miniconda3/lib/python3.12/site-packages (from tensorflow) (0.2.0)\r\n",
      "Requirement already satisfied: h5py>=3.10.0 in /Users/vladyslavtaraban/miniconda3/lib/python3.12/site-packages (from tensorflow) (3.11.0)\r\n",
      "Requirement already satisfied: libclang>=13.0.0 in /Users/vladyslavtaraban/miniconda3/lib/python3.12/site-packages (from tensorflow) (18.1.1)\r\n",
      "Requirement already satisfied: ml-dtypes~=0.3.1 in /Users/vladyslavtaraban/miniconda3/lib/python3.12/site-packages (from tensorflow) (0.3.2)\r\n",
      "Requirement already satisfied: opt-einsum>=2.3.2 in /Users/vladyslavtaraban/miniconda3/lib/python3.12/site-packages (from tensorflow) (3.3.0)\r\n",
      "Requirement already satisfied: packaging in /Users/vladyslavtaraban/miniconda3/lib/python3.12/site-packages (from tensorflow) (23.2)\r\n",
      "Requirement already satisfied: protobuf!=4.21.0,!=4.21.1,!=4.21.2,!=4.21.3,!=4.21.4,!=4.21.5,<5.0.0dev,>=3.20.3 in /Users/vladyslavtaraban/miniconda3/lib/python3.12/site-packages (from tensorflow) (4.25.3)\r\n",
      "Requirement already satisfied: requests<3,>=2.21.0 in /Users/vladyslavtaraban/miniconda3/lib/python3.12/site-packages (from tensorflow) (2.31.0)\r\n",
      "Requirement already satisfied: setuptools in /Users/vladyslavtaraban/miniconda3/lib/python3.12/site-packages (from tensorflow) (68.2.2)\r\n",
      "Requirement already satisfied: six>=1.12.0 in /Users/vladyslavtaraban/miniconda3/lib/python3.12/site-packages (from tensorflow) (1.16.0)\r\n",
      "Requirement already satisfied: termcolor>=1.1.0 in /Users/vladyslavtaraban/miniconda3/lib/python3.12/site-packages (from tensorflow) (2.4.0)\r\n",
      "Requirement already satisfied: typing-extensions>=3.6.6 in /Users/vladyslavtaraban/miniconda3/lib/python3.12/site-packages (from tensorflow) (4.9.0)\r\n",
      "Requirement already satisfied: wrapt>=1.11.0 in /Users/vladyslavtaraban/miniconda3/lib/python3.12/site-packages (from tensorflow) (1.16.0)\r\n",
      "Requirement already satisfied: grpcio<2.0,>=1.24.3 in /Users/vladyslavtaraban/miniconda3/lib/python3.12/site-packages (from tensorflow) (1.63.0)\r\n",
      "Requirement already satisfied: tensorboard<2.17,>=2.16 in /Users/vladyslavtaraban/miniconda3/lib/python3.12/site-packages (from tensorflow) (2.16.2)\r\n",
      "Requirement already satisfied: keras>=3.0.0 in /Users/vladyslavtaraban/miniconda3/lib/python3.12/site-packages (from tensorflow) (3.3.3)\r\n",
      "Requirement already satisfied: numpy<2.0.0,>=1.26.0 in /Users/vladyslavtaraban/miniconda3/lib/python3.12/site-packages (from tensorflow) (1.26.4)\r\n",
      "Requirement already satisfied: wheel<1.0,>=0.23.0 in /Users/vladyslavtaraban/miniconda3/lib/python3.12/site-packages (from astunparse>=1.6.0->tensorflow) (0.41.2)\r\n",
      "Requirement already satisfied: rich in /Users/vladyslavtaraban/miniconda3/lib/python3.12/site-packages (from keras>=3.0.0->tensorflow) (13.7.1)\r\n",
      "Requirement already satisfied: namex in /Users/vladyslavtaraban/miniconda3/lib/python3.12/site-packages (from keras>=3.0.0->tensorflow) (0.0.8)\r\n",
      "Requirement already satisfied: optree in /Users/vladyslavtaraban/miniconda3/lib/python3.12/site-packages (from keras>=3.0.0->tensorflow) (0.11.0)\r\n",
      "Requirement already satisfied: charset-normalizer<4,>=2 in /Users/vladyslavtaraban/miniconda3/lib/python3.12/site-packages (from requests<3,>=2.21.0->tensorflow) (2.0.4)\r\n",
      "Requirement already satisfied: idna<4,>=2.5 in /Users/vladyslavtaraban/miniconda3/lib/python3.12/site-packages (from requests<3,>=2.21.0->tensorflow) (3.4)\r\n",
      "Requirement already satisfied: urllib3<3,>=1.21.1 in /Users/vladyslavtaraban/miniconda3/lib/python3.12/site-packages (from requests<3,>=2.21.0->tensorflow) (2.1.0)\r\n",
      "Requirement already satisfied: certifi>=2017.4.17 in /Users/vladyslavtaraban/miniconda3/lib/python3.12/site-packages (from requests<3,>=2.21.0->tensorflow) (2024.2.2)\r\n",
      "Requirement already satisfied: markdown>=2.6.8 in /Users/vladyslavtaraban/miniconda3/lib/python3.12/site-packages (from tensorboard<2.17,>=2.16->tensorflow) (3.6)\r\n",
      "Requirement already satisfied: tensorboard-data-server<0.8.0,>=0.7.0 in /Users/vladyslavtaraban/miniconda3/lib/python3.12/site-packages (from tensorboard<2.17,>=2.16->tensorflow) (0.7.2)\r\n",
      "Requirement already satisfied: werkzeug>=1.0.1 in /Users/vladyslavtaraban/miniconda3/lib/python3.12/site-packages (from tensorboard<2.17,>=2.16->tensorflow) (3.0.3)\r\n",
      "Requirement already satisfied: MarkupSafe>=2.1.1 in /Users/vladyslavtaraban/miniconda3/lib/python3.12/site-packages (from werkzeug>=1.0.1->tensorboard<2.17,>=2.16->tensorflow) (2.1.3)\r\n",
      "Requirement already satisfied: markdown-it-py>=2.2.0 in /Users/vladyslavtaraban/miniconda3/lib/python3.12/site-packages (from rich->keras>=3.0.0->tensorflow) (3.0.0)\r\n",
      "Requirement already satisfied: pygments<3.0.0,>=2.13.0 in /Users/vladyslavtaraban/miniconda3/lib/python3.12/site-packages (from rich->keras>=3.0.0->tensorflow) (2.15.1)\r\n",
      "Requirement already satisfied: mdurl~=0.1 in /Users/vladyslavtaraban/miniconda3/lib/python3.12/site-packages (from markdown-it-py>=2.2.0->rich->keras>=3.0.0->tensorflow) (0.1.2)\r\n",
      "Requirement already satisfied: torchvision in /Users/vladyslavtaraban/miniconda3/lib/python3.12/site-packages (0.17.2)\r\n",
      "Requirement already satisfied: numpy in /Users/vladyslavtaraban/miniconda3/lib/python3.12/site-packages (from torchvision) (1.26.4)\r\n",
      "Requirement already satisfied: torch==2.2.2 in /Users/vladyslavtaraban/miniconda3/lib/python3.12/site-packages (from torchvision) (2.2.2)\r\n",
      "Requirement already satisfied: pillow!=8.3.*,>=5.3.0 in /Users/vladyslavtaraban/miniconda3/lib/python3.12/site-packages (from torchvision) (10.3.0)\r\n",
      "Requirement already satisfied: filelock in /Users/vladyslavtaraban/miniconda3/lib/python3.12/site-packages (from torch==2.2.2->torchvision) (3.14.0)\r\n",
      "Requirement already satisfied: typing-extensions>=4.8.0 in /Users/vladyslavtaraban/miniconda3/lib/python3.12/site-packages (from torch==2.2.2->torchvision) (4.9.0)\r\n",
      "Requirement already satisfied: sympy in /Users/vladyslavtaraban/miniconda3/lib/python3.12/site-packages (from torch==2.2.2->torchvision) (1.12)\r\n",
      "Requirement already satisfied: networkx in /Users/vladyslavtaraban/miniconda3/lib/python3.12/site-packages (from torch==2.2.2->torchvision) (3.3)\r\n",
      "Requirement already satisfied: jinja2 in /Users/vladyslavtaraban/miniconda3/lib/python3.12/site-packages (from torch==2.2.2->torchvision) (3.1.3)\r\n",
      "Requirement already satisfied: fsspec in /Users/vladyslavtaraban/miniconda3/lib/python3.12/site-packages (from torch==2.2.2->torchvision) (2024.3.1)\r\n",
      "Requirement already satisfied: MarkupSafe>=2.0 in /Users/vladyslavtaraban/miniconda3/lib/python3.12/site-packages (from jinja2->torch==2.2.2->torchvision) (2.1.3)\r\n",
      "Requirement already satisfied: mpmath>=0.19 in /Users/vladyslavtaraban/miniconda3/lib/python3.12/site-packages (from sympy->torch==2.2.2->torchvision) (1.3.0)\r\n",
      "Requirement already satisfied: torch in /Users/vladyslavtaraban/miniconda3/lib/python3.12/site-packages (2.2.2)\r\n",
      "Requirement already satisfied: filelock in /Users/vladyslavtaraban/miniconda3/lib/python3.12/site-packages (from torch) (3.14.0)\r\n",
      "Requirement already satisfied: typing-extensions>=4.8.0 in /Users/vladyslavtaraban/miniconda3/lib/python3.12/site-packages (from torch) (4.9.0)\r\n",
      "Requirement already satisfied: sympy in /Users/vladyslavtaraban/miniconda3/lib/python3.12/site-packages (from torch) (1.12)\r\n",
      "Requirement already satisfied: networkx in /Users/vladyslavtaraban/miniconda3/lib/python3.12/site-packages (from torch) (3.3)\r\n",
      "Requirement already satisfied: jinja2 in /Users/vladyslavtaraban/miniconda3/lib/python3.12/site-packages (from torch) (3.1.3)\r\n",
      "Requirement already satisfied: fsspec in /Users/vladyslavtaraban/miniconda3/lib/python3.12/site-packages (from torch) (2024.3.1)\r\n",
      "Requirement already satisfied: MarkupSafe>=2.0 in /Users/vladyslavtaraban/miniconda3/lib/python3.12/site-packages (from jinja2->torch) (2.1.3)\r\n",
      "Requirement already satisfied: mpmath>=0.19 in /Users/vladyslavtaraban/miniconda3/lib/python3.12/site-packages (from sympy->torch) (1.3.0)\r\n"
     ]
    }
   ],
   "source": [
    "!pip3 install tensorflow\n",
    "!pip3 install torchvision\n",
    "!pip3 install torch"
   ]
  },
  {
   "cell_type": "markdown",
   "source": [
    "Imports"
   ],
   "metadata": {
    "collapsed": false
   },
   "id": "5c6ef6b14b9a20f9"
  },
  {
   "cell_type": "code",
   "outputs": [
    {
     "name": "stdout",
     "output_type": "stream",
     "text": [
      "2.2.2\n",
      "0.17.2\n"
     ]
    }
   ],
   "source": [
    "from collections import OrderedDict\n",
    "\n",
    "import numpy as np\n",
    "\n",
    "import torch\n",
    "import torch.nn as nn\n",
    "import torch.optim as optim\n",
    "import torch.nn.functional as F\n",
    "from torch.utils.data import DataLoader\n",
    "torch.set_printoptions(linewidth=120)\n",
    "torch.set_grad_enabled(True)\n",
    "\n",
    "import torchvision\n",
    "from torchvision.transforms import transforms\n",
    "\n",
    "from utils import *\n",
    "\n",
    "print(torch.__version__)\n",
    "print(torchvision.__version__)"
   ],
   "metadata": {
    "collapsed": false,
    "ExecuteTime": {
     "end_time": "2024-05-12T18:51:40.000482Z",
     "start_time": "2024-05-12T18:51:24.886325Z"
    }
   },
   "id": "ab9223d3be4ced35",
   "execution_count": 3
  },
  {
   "cell_type": "markdown",
   "source": [
    "\n",
    "Define residual block and autoencoder model"
   ],
   "metadata": {
    "collapsed": false
   },
   "id": "ffa9ff3f64adc548"
  },
  {
   "cell_type": "code",
   "outputs": [],
   "source": [
    "class ResBlock(nn.Module):\n",
    "    \"\"\"\n",
    "    A two-convolutional layer residual block.\n",
    "    \"\"\"\n",
    "    \n",
    "    def __init__(self, c_in, c_out, k, s=1, p=1, mode='encode'):\n",
    "        assert mode in ['encode', 'decode'], \"Mode must be either 'encode' or 'decode'.\"\n",
    "        super(ResBlock, self).__init__()\n",
    "        if mode == 'encode':\n",
    "            self.conv1 = nn.Conv2d(c_in, c_out, k, s, p)\n",
    "            self.conv2 = nn.Conv2d(c_out, c_out, 3, 1, 1)\n",
    "        elif mode == 'decode':\n",
    "            self.conv1 = nn.ConvTranspose2d(c_in, c_out, k, s, p)\n",
    "            self.conv2 = nn.ConvTranspose2d(c_out, c_out, 3, 1, 1)\n",
    "        self.relu = nn.ReLU()\n",
    "        self.BN = nn.BatchNorm2d(c_out)\n",
    "        self.resize = s > 1 or (s == 1 and p == 0) or c_out != c_in\n",
    "    \n",
    "    def forward(self, x):\n",
    "        conv1 = self.BN(self.conv1(x))\n",
    "        relu = self.relu(conv1)\n",
    "        conv2 = self.BN(self.conv2(relu))\n",
    "        if self.resize:\n",
    "            x = self.BN(self.conv1(x))\n",
    "        return self.relu(x + conv2)"
   ],
   "metadata": {
    "collapsed": false
   },
   "id": "e3ef407d390b4585"
  },
  {
   "cell_type": "code",
   "outputs": [],
   "source": [
    "\"\"\"\n",
    "class Encoder(nn.Module):\n",
    "    \"\n",
    "    Encoder class, mainly consisting of three residual blocks.\n",
    "    \"\n",
    "    \n",
    "    def __init__(self):\n",
    "        super(Encoder, self).__init__()\n",
    "        self.init_conv = nn.Conv2d(3, 48, 3, 3, 0) # 48 10 10\n",
    "        self.BN = nn.BatchNorm2d(48)\n",
    "        self.rb1 = ResBlock(48, 48, 3, 2, 1, 'encode') # 48 5 5\n",
    "        self.rb2 = ResBlock(48, 24, 3, 2, 1, 'encode') # 24 3 3\n",
    "        self.rb3 = ResBlock(24, 24, 2, 1, 0, 'encode') # 24 2 2\n",
    "        self.relu = nn.ReLU()\n",
    "    \n",
    "    def forward(self, inputs):\n",
    "        init_conv = self.relu(self.BN(self.init_conv(inputs)))\n",
    "        rb1 = self.rb1(init_conv)\n",
    "        rb2 = self.rb2(rb1)\n",
    "        rb3 = self.rb3(rb2)\n",
    "        return rb3\n",
    "\"\"\"\n",
    "\n",
    "class Encoder(nn.Module):\n",
    "    \"\"\"\n",
    "    Encoder class, mainly consisting of three residual blocks.\n",
    "    \"\"\"\n",
    "    \n",
    "    def __init__(self):\n",
    "        super(Encoder, self).__init__()\n",
    "        self.init_conv = nn.Conv2d(3, 16, 3, 1, 1) # 16 32 32\n",
    "        self.BN = nn.BatchNorm2d(16)\n",
    "        self.rb1 = ResBlock(16, 16, 3, 2, 1, 'encode') # 16 16 16\n",
    "        self.rb2 = ResBlock(16, 32, 3, 1, 1, 'encode') # 32 16 16\n",
    "        self.rb3 = ResBlock(32, 32, 3, 2, 1, 'encode') # 32 8 8\n",
    "        self.rb4 = ResBlock(32, 48, 3, 1, 1, 'encode') # 48 8 8\n",
    "        self.rb5 = ResBlock(48, 48, 3, 2, 1, 'encode') # 48 4 4\n",
    "        self.rb6 = ResBlock(48, 64, 3, 2, 1, 'encode') # 64 2 2\n",
    "        self.relu = nn.ReLU()\n",
    "    \n",
    "    def forward(self, inputs):\n",
    "        init_conv = self.relu(self.BN(self.init_conv(inputs)))\n",
    "        rb1 = self.rb1(init_conv)\n",
    "        rb2 = self.rb2(rb1)\n",
    "        rb3 = self.rb3(rb2)\n",
    "        rb4 = self.rb4(rb3)\n",
    "        rb5 = self.rb5(rb4)\n",
    "        rb6 = self.rb6(rb5)\n",
    "        return rb6"
   ],
   "metadata": {
    "collapsed": false
   },
   "id": "3ac61f0a4b716c9f"
  },
  {
   "cell_type": "code",
   "outputs": [],
   "source": [
    "\"\"\"\n",
    "class Decoder(nn.Module):\n",
    "    \"\n",
    "    Decoder class, mainly consisting of two residual blocks.\n",
    "    \"\n",
    "    \n",
    "    def __init__(self):\n",
    "        super(Decoder, self).__init__()\n",
    "        self.relu = nn.ReLU()\n",
    "        self.rb1 = ResBlock(24, 48, 3, 2, 0, 'decode') # 48 5 5\n",
    "        self.rb2 = ResBlock(48, 24, 5, 3, 0, 'decode') # 24 17 17\n",
    "        self.out_conv = nn.ConvTranspose2d(24, 3, 2, 2, 1) # 3 32 32\n",
    "        self.tanh = nn.Tanh()\n",
    "        \n",
    "    def forward(self, inputs):\n",
    "        relu = self.relu(inputs)\n",
    "        rb1 = self.rb1(relu)\n",
    "        rb2 = self.rb2(rb1)\n",
    "        out_conv = self.out_conv(rb2)\n",
    "        output = self.tanh(out_conv)\n",
    "        return output\n",
    "\"\"\"\n",
    "\n",
    "class Decoder(nn.Module):\n",
    "    \"\"\"\n",
    "    Decoder class, mainly consisting of two residual blocks.\n",
    "    \"\"\"\n",
    "    \n",
    "    def __init__(self):\n",
    "        super(Decoder, self).__init__()\n",
    "        self.rb1 = ResBlock(64, 48, 2, 2, 0, 'decode') # 48 4 4\n",
    "        self.rb2 = ResBlock(48, 48, 2, 2, 0, 'decode') # 48 8 8\n",
    "        self.rb3 = ResBlock(48, 32, 3, 1, 1, 'decode') # 32 8 8\n",
    "        self.rb4 = ResBlock(32, 32, 2, 2, 0, 'decode') # 32 16 16\n",
    "        self.rb5 = ResBlock(32, 16, 3, 1, 1, 'decode') # 16 16 16\n",
    "        self.rb6 = ResBlock(16, 16, 2, 2, 0, 'decode') # 16 32 32\n",
    "        self.out_conv = nn.ConvTranspose2d(16, 3, 3, 1, 1) # 3 32 32\n",
    "        self.tanh = nn.Tanh()\n",
    "        \n",
    "    def forward(self, inputs):\n",
    "        rb1 = self.rb1(inputs)\n",
    "        rb2 = self.rb2(rb1)\n",
    "        rb3 = self.rb3(rb2)\n",
    "        rb4 = self.rb4(rb3)\n",
    "        rb5 = self.rb5(rb4)\n",
    "        rb6 = self.rb6(rb5)\n",
    "        out_conv = self.out_conv(rb6)\n",
    "        output = self.tanh(out_conv)\n",
    "        return output"
   ],
   "metadata": {
    "collapsed": false
   },
   "id": "93271678c6fc9a11"
  },
  {
   "cell_type": "code",
   "outputs": [],
   "source": [
    "class Autoencoder(nn.Module):\n",
    "    \"\"\"\n",
    "    Autoencoder class, combines encoder and decoder model.\n",
    "    \"\"\"\n",
    "    \n",
    "    def __init__(self):\n",
    "        super(Autoencoder, self).__init__()\n",
    "        self.encoder = Encoder()\n",
    "        self.decoder = Decoder()\n",
    "    \n",
    "    @property\n",
    "    def num_params(self):\n",
    "        model_parameters = filter(lambda p: p.requires_grad, self.parameters())\n",
    "        num_p = sum([np.prod(p.size()) for p in model_parameters])\n",
    "        return num_p\n",
    "    \n",
    "    def forward(self, inputs):\n",
    "        encoded = self.encoder(inputs)\n",
    "        decoded = self.decoder(encoded)\n",
    "        return decoded"
   ],
   "metadata": {
    "collapsed": false
   },
   "id": "6bca32c79a8dd667"
  },
  {
   "cell_type": "code",
   "outputs": [],
   "source": [
    "print(\"Number of parameters in model: {0}\".format(Autoencoder().num_params))"
   ],
   "metadata": {
    "collapsed": false
   },
   "id": "cd70c24359d5e33b"
  }
 ],
 "metadata": {
  "kernelspec": {
   "display_name": "Python 3",
   "language": "python",
   "name": "python3"
  },
  "language_info": {
   "codemirror_mode": {
    "name": "ipython",
    "version": 2
   },
   "file_extension": ".py",
   "mimetype": "text/x-python",
   "name": "python",
   "nbconvert_exporter": "python",
   "pygments_lexer": "ipython2",
   "version": "2.7.6"
  }
 },
 "nbformat": 4,
 "nbformat_minor": 5
}
