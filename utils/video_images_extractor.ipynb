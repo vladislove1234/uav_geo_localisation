{
 "cells": [
  {
   "cell_type": "code",
   "execution_count": 2,
   "id": "initial_id",
   "metadata": {
    "collapsed": true,
    "ExecuteTime": {
     "end_time": "2024-05-07T21:32:21.908751Z",
     "start_time": "2024-05-07T21:32:18.892638Z"
    }
   },
   "outputs": [
    {
     "name": "stdout",
     "output_type": "stream",
     "text": [
      "Collecting pillow\r\n",
      "  Using cached pillow-10.3.0-cp312-cp312-macosx_10_10_x86_64.whl.metadata (9.2 kB)\r\n",
      "Using cached pillow-10.3.0-cp312-cp312-macosx_10_10_x86_64.whl (3.5 MB)\r\n",
      "Installing collected packages: pillow\r\n",
      "Successfully installed pillow-10.3.0\r\n"
     ]
    }
   ],
   "source": [
    "!pip3 install pillow"
   ]
  },
  {
   "cell_type": "code",
   "outputs": [
    {
     "name": "stdout",
     "output_type": "stream",
     "text": [
      "Generated 135 crops for satellite_30.png\n",
      "Generated 150 crops for satellite_24.png\n",
      "Generated 135 crops for satellite_18.png\n",
      "Generated 135 crops for satellite_19.png\n",
      "Generated 150 crops for satellite_25.png\n",
      "Generated 150 crops for satellite_31.png\n",
      "Generated 150 crops for satellite_27.png\n",
      "Generated 150 crops for satellite_33.png\n",
      "Generated 150 crops for satellite_32.png\n",
      "Generated 150 crops for satellite_26.png\n",
      "Generated 135 crops for satellite_22.png\n",
      "Generated 150 crops for satellite_36.png\n",
      "Generated 150 crops for satellite_37.png\n",
      "Generated 150 crops for satellite_23.png\n",
      "Generated 135 crops for satellite_35.png\n",
      "Generated 150 crops for satellite_21.png\n",
      "Generated 150 crops for satellite_9.png\n",
      "Generated 150 crops for satellite_8.png\n",
      "Generated 150 crops for satellite_20.png\n",
      "Generated 140 crops for satellite_34.png\n",
      "Generated 135 crops for satellite_53.png\n",
      "Generated 150 crops for satellite_47.png\n",
      "Generated 150 crops for satellite_46.png\n",
      "Generated 150 crops for satellite_52.png\n",
      "Generated 150 crops for satellite_44.png\n",
      "Generated 150 crops for satellite_50.png\n",
      "Generated 150 crops for satellite_51.png\n",
      "Generated 150 crops for satellite_45.png\n",
      "Generated 150 crops for satellite_41.png\n",
      "Generated 150 crops for satellite_55.png\n",
      "Generated 150 crops for satellite_54.png\n",
      "Generated 150 crops for satellite_40.png\n",
      "Generated 150 crops for satellite_42.png\n",
      "Generated 150 crops for satellite_43.png\n",
      "Generated 135 crops for satellite_48.png\n",
      "Generated 150 crops for satellite_49.png\n",
      "Generated 135 crops for satellite_11.png\n",
      "Generated 150 crops for satellite_39.png\n",
      "Generated 135 crops for satellite_5.png\n",
      "Generated 135 crops for satellite_4.png\n",
      "Generated 150 crops for satellite_38.png\n",
      "Generated 150 crops for satellite_10.png\n",
      "Generated 150 crops for satellite_12.png\n",
      "Generated 135 crops for satellite_6.png\n",
      "Generated 150 crops for satellite_7.png\n",
      "Generated 135 crops for satellite_13.png\n",
      "Generated 135 crops for satellite_17.png\n",
      "Generated 135 crops for satellite_3.png\n",
      "Generated 135 crops for satellite_2.png\n",
      "Generated 135 crops for satellite_16.png\n",
      "Generated 150 crops for satellite_28.png\n",
      "Generated 135 crops for satellite_14.png\n",
      "Generated 150 crops for satellite_1.png\n",
      "Generated 150 crops for satellite_15.png\n",
      "Generated 150 crops for satellite_29.png\n"
     ]
    }
   ],
   "source": [
    "import os\n",
    "from PIL import Image\n",
    "from math import ceil\n",
    "\n",
    "def calculate_stride(total_length, crop_size, num_crops, overlap):\n",
    "    if num_crops == 1:\n",
    "        return 0  # No stride needed if only one crop\n",
    "    return int((total_length - crop_size) / (num_crops - 1) - overlap)\n",
    "\n",
    "def crop_image(image_path, num_crops, crop_width, crop_height, overlap):\n",
    "    img = Image.open(image_path)\n",
    "    image_dir, image_name = os.path.split(image_path)\n",
    "    cropped_dir = os.path.join(image_dir, 'cropped_images')\n",
    "    os.makedirs(cropped_dir, exist_ok=True)\n",
    "\n",
    "    # Calculate stride for both dimensions\n",
    "    stride_x = calculate_stride(img.width, crop_width, num_crops, overlap)\n",
    "    stride_y = calculate_stride(img.height, crop_height, num_crops, overlap)\n",
    "\n",
    "    count = 0\n",
    "    y = 0\n",
    "    while (y + crop_height) <= img.height:\n",
    "        x = 0\n",
    "        while (x + crop_width) <= img.width:\n",
    "            cropped_img = img.crop((x, y, x + crop_width, y + crop_height))\n",
    "            cropped_img.save(os.path.join(cropped_dir, f'{image_name[:-4]}_crop{count}.png'))\n",
    "            count += 1\n",
    "            x += stride_x + crop_width - overlap\n",
    "            if num_crops == count:\n",
    "                break\n",
    "        y += stride_y + crop_height - overlap\n",
    "        if num_crops == count:\n",
    "            break\n",
    "\n",
    "    print(f'Generated {count} crops for {image_name}')\n",
    "\n",
    "# Usage\n",
    "image_dir = '/Users/vladyslavtaraban/Documents/NULP/ML/course_work/uav_geo_localisation/data/satelites'\n",
    "num_crops = 150  # Number of crops per image\n",
    "crop_width = 120\n",
    "crop_height = 68\n",
    "overlap = 10  # Pixels of overlap\n",
    "\n",
    "for filename in os.listdir(image_dir):\n",
    "    if filename.endswith('.png'):\n",
    "        crop_image(os.path.join(image_dir, filename), num_crops, crop_width, crop_height, overlap)\n"
   ],
   "metadata": {
    "collapsed": false,
    "ExecuteTime": {
     "end_time": "2024-05-07T21:39:55.278044Z",
     "start_time": "2024-05-07T21:39:02.666470Z"
    }
   },
   "id": "f968278173876cd4",
   "execution_count": 5
  },
  {
   "cell_type": "code",
   "outputs": [],
   "source": [],
   "metadata": {
    "collapsed": false
   },
   "id": "bf7421787258b1d8"
  }
 ],
 "metadata": {
  "kernelspec": {
   "display_name": "Python 3",
   "language": "python",
   "name": "python3"
  },
  "language_info": {
   "codemirror_mode": {
    "name": "ipython",
    "version": 2
   },
   "file_extension": ".py",
   "mimetype": "text/x-python",
   "name": "python",
   "nbconvert_exporter": "python",
   "pygments_lexer": "ipython2",
   "version": "2.7.6"
  }
 },
 "nbformat": 4,
 "nbformat_minor": 5
}
